{
 "cells": [
  {
   "cell_type": "code",
   "execution_count": 1,
   "metadata": {},
   "outputs": [],
   "source": [
    "#the lyrics of the song (perfect by Ed Sheeran) has been cleaned out\n",
    "perfect_lyrics = \"I found a love for me darling just dive right in and follow my lead\\\n",
    " well I found a girl beautiful and sweet I never knew you were the someone waiting for me\\\n",
    " because we were just kids when we fell in love not knowing what it was I will not give you up this time\\\n",
    " but darling, just kiss me slow, your heart is all I own and in your eyes you are holding mine\\\n",
    " baby, I am dancing in the dark with you between my arms barefoot on the grass, listening to our favorite song\\\n",
    " when you said you looked a mess, I whispered underneath my breath but you heard it, darling, you look perfect tonight\\\n",
    " well I found a woman, stronger than anyone I know she shares my dreams, I hope that someday I will share her home\\\n",
    " I found a love, to carry more than just my secrets to carry love, to carry children of our own\\\n",
    " we are still kids, but we are so in love fighting against all odds I know we will be alright this time\\\n",
    " darling, just hold my hand be my girl, I will be your man I see my future in your eyes\\\n",
    " baby, I am dancing in the dark, with you between my arms barefoot on the grass, listening to our favorite song\\\n",
    " when I saw you in that dress, looking so beautiful I don't deserve this, darling, you look perfect tonight\\\n",
    " baby, I am dancing in the dark, with you between my arms barefoot on the grass, listening to our favorite song\\\n",
    " I have faith in what I see now I know I have met an angel in person and she looks perfect I don't deserve this\\\n",
    " you look perfect tonight\""
   ]
  },
  {
   "cell_type": "code",
   "execution_count": 2,
   "metadata": {},
   "outputs": [
    {
     "name": "stdout",
     "output_type": "stream",
     "text": [
      "['I', 'found', 'a', 'love', 'for', 'me', 'darling', 'just', 'dive', 'right', 'in', 'and', 'follow', 'my', 'lead', 'well', 'I', 'found', 'a', 'girl', 'beautiful', 'and', 'sweet', 'I', 'never', 'knew', 'you', 'were', 'the', 'someone', 'waiting', 'for', 'me', 'because', 'we', 'were', 'just', 'kids', 'when', 'we', 'fell', 'in', 'love', 'not', 'knowing', 'what', 'it', 'was', 'I', 'will', 'not', 'give', 'you', 'up', 'this', 'time', 'but', 'darling,', 'just', 'kiss', 'me', 'slow,', 'your', 'heart', 'is', 'all', 'I', 'own', 'and', 'in', 'your', 'eyes', 'you', 'are', 'holding', 'mine', 'baby,', 'I', 'am', 'dancing', 'in', 'the', 'dark', 'with', 'you', 'between', 'my', 'arms', 'barefoot', 'on', 'the', 'grass,', 'listening', 'to', 'our', 'favorite', 'song', 'when', 'you', 'said', 'you', 'looked', 'a', 'mess,', 'I', 'whispered', 'underneath', 'my', 'breath', 'but', 'you', 'heard', 'it,', 'darling,', 'you', 'look', 'perfect', 'tonight', 'well', 'I', 'found', 'a', 'woman,', 'stronger', 'than', 'anyone', 'I', 'know', 'she', 'shares', 'my', 'dreams,', 'I', 'hope', 'that', 'someday', 'I', 'will', 'share', 'her', 'home', 'I', 'found', 'a', 'love,', 'to', 'carry', 'more', 'than', 'just', 'my', 'secrets', 'to', 'carry', 'love,', 'to', 'carry', 'children', 'of', 'our', 'own', 'we', 'are', 'still', 'kids,', 'but', 'we', 'are', 'so', 'in', 'love', 'fighting', 'against', 'all', 'odds', 'I', 'know', 'we', 'will', 'be', 'alright', 'this', 'time', 'darling,', 'just', 'hold', 'my', 'hand', 'be', 'my', 'girl,', 'I', 'will', 'be', 'your', 'man', 'I', 'see', 'my', 'future', 'in', 'your', 'eyes', 'baby,', 'I', 'am', 'dancing', 'in', 'the', 'dark,', 'with', 'you', 'between', 'my', 'arms', 'barefoot', 'on', 'the', 'grass,', 'listening', 'to', 'our', 'favorite', 'song', 'when', 'I', 'saw', 'you', 'in', 'that', 'dress,', 'looking', 'so', 'beautiful', 'I', \"don't\", 'deserve', 'this,', 'darling,', 'you', 'look', 'perfect', 'tonight', 'baby,', 'I', 'am', 'dancing', 'in', 'the', 'dark,', 'with', 'you', 'between', 'my', 'arms', 'barefoot', 'on', 'the', 'grass,', 'listening', 'to', 'our', 'favorite', 'song', 'I', 'have', 'faith', 'in', 'what', 'I', 'see', 'now', 'I', 'know', 'I', 'have', 'met', 'an', 'angel', 'in', 'person', 'and', 'she', 'looks', 'perfect', 'I', \"don't\", 'deserve', 'this', 'you', 'look', 'perfect', 'tonight']\n"
     ]
    }
   ],
   "source": [
    "#To seperate each word  to create a list\n",
    "split_lyrics = perfect_lyrics.split(' ')\n",
    "print(split_lyrics)"
   ]
  },
  {
   "cell_type": "code",
   "execution_count": 3,
   "metadata": {},
   "outputs": [
    {
     "data": {
      "text/plain": [
       "293"
      ]
     },
     "execution_count": 3,
     "metadata": {},
     "output_type": "execute_result"
    }
   ],
   "source": [
    "len(split_lyrics) #number of words in the whole lyrics"
   ]
  },
  {
   "cell_type": "code",
   "execution_count": 4,
   "metadata": {},
   "outputs": [
    {
     "name": "stdout",
     "output_type": "stream",
     "text": [
      "{'faith', 'baby,', 'knew', 'shares', 'heard', 'against', 'love', 'she', 'so', 'hand', 'now', 'just', 'secrets', 'not', 'tonight', 'time', 'with', 'up', 'found', 'someone', 'stronger', 'our', 'said', 'we', 'looked', 'mine', 'looks', 'darling', 'give', 'look', 'when', 'it,', 'never', 'song', 'listening', 'follow', 'are', 'of', 'me', 'angel', 'what', 'I', 'that', 'man', 'underneath', 'know', 'waiting', 'for', 'girl', 'someday', 'dancing', 'breath', 'see', 'dark,', 'is', 'children', 'were', 'a', 'woman,', 'in', 'sweet', 'kids,', 'an', 'have', 'eyes', 'but', 'whispered', 'between', 'my', 'mess,', 'right', 'all', 'it', 'holding', 'more', 'lead', 'and', 'darling,', 'looking', 'deserve', 'this', 'carry', 'hope', 'grass,', 'home', 'dive', 'girl,', 'arms', 'kiss', 'dreams,', 'your', 'than', 'kids', 'fell', 'favorite', 'still', 'be', 'hold', 'met', 'on', 'anyone', 'person', 'heart', 'beautiful', 'knowing', 'the', 'her', 'was', 'to', 'own', 'love,', 'odds', 'perfect', 'fighting', 'you', 'dark', 'saw', 'slow,', 'well', 'barefoot', 'this,', 'because', 'future', \"don't\", 'share', 'will', 'dress,', 'alright', 'am'}\n"
     ]
    }
   ],
   "source": [
    "# To seperate the unique words\n",
    "unique_words = set(split_lyrics)\n",
    "print(unique_words)"
   ]
  },
  {
   "cell_type": "code",
   "execution_count": 5,
   "metadata": {},
   "outputs": [
    {
     "data": {
      "text/plain": [
       "129"
      ]
     },
     "execution_count": 5,
     "metadata": {},
     "output_type": "execute_result"
    }
   ],
   "source": [
    "len(unique_words) # number of unique words"
   ]
  },
  {
   "cell_type": "code",
   "execution_count": 6,
   "metadata": {},
   "outputs": [
    {
     "name": "stdout",
     "output_type": "stream",
     "text": [
      "{'faith': 0, 'baby,': 0, 'knew': 0, 'shares': 0, 'heard': 0, 'against': 0, 'love': 0, 'she': 0, 'so': 0, 'hand': 0, 'now': 0, 'just': 0, 'secrets': 0, 'not': 0, 'tonight': 0, 'time': 0, 'with': 0, 'up': 0, 'found': 0, 'someone': 0, 'stronger': 0, 'our': 0, 'said': 0, 'we': 0, 'looked': 0, 'mine': 0, 'looks': 0, 'darling': 0, 'give': 0, 'look': 0, 'when': 0, 'it,': 0, 'never': 0, 'song': 0, 'listening': 0, 'follow': 0, 'are': 0, 'of': 0, 'me': 0, 'angel': 0, 'what': 0, 'I': 0, 'that': 0, 'man': 0, 'underneath': 0, 'know': 0, 'waiting': 0, 'for': 0, 'girl': 0, 'someday': 0, 'dancing': 0, 'breath': 0, 'see': 0, 'dark,': 0, 'is': 0, 'children': 0, 'were': 0, 'a': 0, 'woman,': 0, 'in': 0, 'sweet': 0, 'kids,': 0, 'an': 0, 'have': 0, 'eyes': 0, 'but': 0, 'whispered': 0, 'between': 0, 'my': 0, 'mess,': 0, 'right': 0, 'all': 0, 'it': 0, 'holding': 0, 'more': 0, 'lead': 0, 'and': 0, 'darling,': 0, 'looking': 0, 'deserve': 0, 'this': 0, 'carry': 0, 'hope': 0, 'grass,': 0, 'home': 0, 'dive': 0, 'girl,': 0, 'arms': 0, 'kiss': 0, 'dreams,': 0, 'your': 0, 'than': 0, 'kids': 0, 'fell': 0, 'favorite': 0, 'still': 0, 'be': 0, 'hold': 0, 'met': 0, 'on': 0, 'anyone': 0, 'person': 0, 'heart': 0, 'beautiful': 0, 'knowing': 0, 'the': 0, 'her': 0, 'was': 0, 'to': 0, 'own': 0, 'love,': 0, 'odds': 0, 'perfect': 0, 'fighting': 0, 'you': 0, 'dark': 0, 'saw': 0, 'slow,': 0, 'well': 0, 'barefoot': 0, 'this,': 0, 'because': 0, 'future': 0, \"don't\": 0, 'share': 0, 'will': 0, 'dress,': 0, 'alright': 0, 'am': 0}\n"
     ]
    }
   ],
   "source": [
    "# To count the number of times the unique words appear , first in the unique_word list\n",
    "word_dict = {} #An empty dictionary\n",
    "for word in unique_words:\n",
    "    word_dict[word] = 0\n",
    "print(word_dict)"
   ]
  },
  {
   "cell_type": "code",
   "execution_count": 7,
   "metadata": {},
   "outputs": [
    {
     "name": "stdout",
     "output_type": "stream",
     "text": [
      "{'faith': 1, 'baby,': 3, 'knew': 1, 'shares': 1, 'heard': 1, 'against': 1, 'love': 3, 'she': 2, 'so': 2, 'hand': 1, 'now': 1, 'just': 5, 'secrets': 1, 'not': 2, 'tonight': 3, 'time': 2, 'with': 3, 'up': 1, 'found': 4, 'someone': 1, 'stronger': 1, 'our': 4, 'said': 1, 'we': 5, 'looked': 1, 'mine': 1, 'looks': 1, 'darling': 1, 'give': 1, 'look': 3, 'when': 3, 'it,': 1, 'never': 1, 'song': 3, 'listening': 3, 'follow': 1, 'are': 3, 'of': 1, 'me': 3, 'angel': 1, 'what': 2, 'I': 24, 'that': 2, 'man': 1, 'underneath': 1, 'know': 3, 'waiting': 1, 'for': 2, 'girl': 1, 'someday': 1, 'dancing': 3, 'breath': 1, 'see': 2, 'dark,': 2, 'is': 1, 'children': 1, 'were': 2, 'a': 5, 'woman,': 1, 'in': 11, 'sweet': 1, 'kids,': 1, 'an': 1, 'have': 2, 'eyes': 2, 'but': 3, 'whispered': 1, 'between': 3, 'my': 10, 'mess,': 1, 'right': 1, 'all': 2, 'it': 1, 'holding': 1, 'more': 1, 'lead': 1, 'and': 4, 'darling,': 4, 'looking': 1, 'deserve': 2, 'this': 3, 'carry': 3, 'hope': 1, 'grass,': 3, 'home': 1, 'dive': 1, 'girl,': 1, 'arms': 3, 'kiss': 1, 'dreams,': 1, 'your': 4, 'than': 2, 'kids': 1, 'fell': 1, 'favorite': 3, 'still': 1, 'be': 3, 'hold': 1, 'met': 1, 'on': 3, 'anyone': 1, 'person': 1, 'heart': 1, 'beautiful': 2, 'knowing': 1, 'the': 7, 'her': 1, 'was': 1, 'to': 6, 'own': 2, 'love,': 2, 'odds': 1, 'perfect': 4, 'fighting': 1, 'you': 13, 'dark': 1, 'saw': 1, 'slow,': 1, 'well': 2, 'barefoot': 3, 'this,': 1, 'because': 1, 'future': 1, \"don't\": 2, 'share': 1, 'will': 4, 'dress,': 1, 'alright': 1, 'am': 3}\n"
     ]
    }
   ],
   "source": [
    "# then in the whole song\n",
    "for word in split_lyrics:\n",
    "    word_dict[word] = word_dict[word] + 1\n",
    "print(word_dict)"
   ]
  },
  {
   "cell_type": "code",
   "execution_count": 8,
   "metadata": {},
   "outputs": [
    {
     "name": "stdout",
     "output_type": "stream",
     "text": [
      "[('I', 24), ('you', 13), ('in', 11), ('my', 10), ('the', 7), ('to', 6), ('just', 5), ('we', 5), ('a', 5), ('found', 4), ('our', 4), ('and', 4), ('darling,', 4), ('your', 4), ('perfect', 4), ('will', 4), ('baby,', 3), ('love', 3), ('tonight', 3), ('with', 3), ('look', 3), ('when', 3), ('song', 3), ('listening', 3), ('are', 3), ('me', 3), ('know', 3), ('dancing', 3), ('but', 3), ('between', 3), ('this', 3), ('carry', 3), ('grass,', 3), ('arms', 3), ('favorite', 3), ('be', 3), ('on', 3), ('barefoot', 3), ('am', 3), ('she', 2), ('so', 2), ('not', 2), ('time', 2), ('what', 2), ('that', 2), ('for', 2), ('see', 2), ('dark,', 2), ('were', 2), ('have', 2), ('eyes', 2), ('all', 2), ('deserve', 2), ('than', 2), ('beautiful', 2), ('own', 2), ('love,', 2), ('well', 2), (\"don't\", 2), ('faith', 1), ('knew', 1), ('shares', 1), ('heard', 1), ('against', 1), ('hand', 1), ('now', 1), ('secrets', 1), ('up', 1), ('someone', 1), ('stronger', 1), ('said', 1), ('looked', 1), ('mine', 1), ('looks', 1), ('darling', 1), ('give', 1), ('it,', 1), ('never', 1), ('follow', 1), ('of', 1), ('angel', 1), ('man', 1), ('underneath', 1), ('waiting', 1), ('girl', 1), ('someday', 1), ('breath', 1), ('is', 1), ('children', 1), ('woman,', 1), ('sweet', 1), ('kids,', 1), ('an', 1), ('whispered', 1), ('mess,', 1), ('right', 1), ('it', 1), ('holding', 1), ('more', 1), ('lead', 1), ('looking', 1), ('hope', 1), ('home', 1), ('dive', 1), ('girl,', 1), ('kiss', 1), ('dreams,', 1), ('kids', 1), ('fell', 1), ('still', 1), ('hold', 1), ('met', 1), ('anyone', 1), ('person', 1), ('heart', 1), ('knowing', 1), ('her', 1), ('was', 1), ('odds', 1), ('fighting', 1), ('dark', 1), ('saw', 1), ('slow,', 1), ('this,', 1), ('because', 1), ('future', 1), ('share', 1), ('dress,', 1), ('alright', 1)]\n"
     ]
    }
   ],
   "source": [
    "# To sort the value of the words in descending order\n",
    "sort_dict = sorted(word_dict.items(),key = lambda t: t[1], reverse =True)\n",
    "print(sort_dict)"
   ]
  },
  {
   "cell_type": "code",
   "execution_count": 9,
   "metadata": {},
   "outputs": [
    {
     "data": {
      "text/plain": [
       "[('I', 24),\n",
       " ('you', 13),\n",
       " ('in', 11),\n",
       " ('my', 10),\n",
       " ('the', 7),\n",
       " ('to', 6),\n",
       " ('just', 5),\n",
       " ('we', 5),\n",
       " ('a', 5),\n",
       " ('found', 4)]"
      ]
     },
     "execution_count": 9,
     "metadata": {},
     "output_type": "execute_result"
    }
   ],
   "source": [
    "# To slice the list to extract the top 10 repeated words\n",
    "toplist = sort_dict[0:10]\n",
    "toplist"
   ]
  },
  {
   "cell_type": "code",
   "execution_count": 10,
   "metadata": {},
   "outputs": [
    {
     "data": {
      "text/plain": [
       "{'I': 24,\n",
       " 'you': 13,\n",
       " 'in': 11,\n",
       " 'my': 10,\n",
       " 'the': 7,\n",
       " 'to': 6,\n",
       " 'just': 5,\n",
       " 'we': 5,\n",
       " 'a': 5,\n",
       " 'found': 4}"
      ]
     },
     "execution_count": 10,
     "metadata": {},
     "output_type": "execute_result"
    }
   ],
   "source": [
    "#Converting back to a dictionary\n",
    "top10_dict = dict(toplist)\n",
    "top10_dict"
   ]
  },
  {
   "cell_type": "code",
   "execution_count": 11,
   "metadata": {},
   "outputs": [
    {
     "data": {
      "text/plain": [
       "['I', 'you', 'in', 'my', 'the', 'to', 'just', 'we', 'a', 'found']"
      ]
     },
     "execution_count": 11,
     "metadata": {},
     "output_type": "execute_result"
    }
   ],
   "source": [
    "# To isloate just the words and puting them into a list\n",
    "uniqueword10 = list(top10_dict.keys())\n",
    "uniqueword10"
   ]
  },
  {
   "cell_type": "code",
   "execution_count": 12,
   "metadata": {},
   "outputs": [],
   "source": [
    "#To visualize the words and values\n",
    "import matplotlib.pyplot as plt\n",
    "import numpy as np\n",
    "%matplotlib inline"
   ]
  },
  {
   "cell_type": "code",
   "execution_count": 13,
   "metadata": {},
   "outputs": [
    {
     "data": {
      "image/png": "[encoded data removed]",
      "text/plain": [
       "<Figure size 432x288 with 1 Axes>"
      ]
     },
     "metadata": {
      "needs_background": "light"
     },
     "output_type": "display_data"
    }
   ],
   "source": [
    "so_axis = np.arange(len(uniqueword10))\n",
    "plt.xticks(so_axis, uniqueword10)\n",
    "plt.bar(so_axis, top10_dict.values())\n",
    "plt.show()"
   ]
  },
  {
   "cell_type": "code",
   "execution_count": null,
   "metadata": {},
   "outputs": [],
   "source": []
  }
 ],
 "metadata": {
  "kernelspec": {
   "display_name": "Python 3",
   "language": "python",
   "name": "python3"
  },
  "language_info": {
   "codemirror_mode": {
    "name": "ipython",
    "version": 3
   },
   "file_extension": ".py",
   "mimetype": "text/x-python",
   "name": "python",
   "nbconvert_exporter": "python",
   "pygments_lexer": "ipython3",
   "version": "3.7.1"
  }
 },
 "nbformat": 4,
 "nbformat_minor": 2
}
